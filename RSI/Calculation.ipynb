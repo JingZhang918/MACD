{
 "cells": [
  {
   "cell_type": "code",
   "execution_count": 13,
   "id": "57113300",
   "metadata": {},
   "outputs": [],
   "source": [
    "import yfinance as yf\n",
    "\n",
    "data = yf.Ticker('600887.SS').history(start = '2021-08-01', end = '2021-10-01')[['Close']]\n",
    "\n",
    "data['gain'] = (data.Close-data.Close.shift(1)).clip(lower=0)\n",
    "data['loss'] = (data.Close-data.Close.shift(1)).clip(upper=0).abs()\n",
    "\n",
    "data['avg_gain'] = data.gain.rolling(window=14, min_periods=14).mean()\n",
    "data['avg_loss'] = data.loss.rolling(window=14, min_periods=14).mean()\n",
    "\n",
    "data['ri'] = data.avg_gain/data.avg_loss\n",
    "data['rsi'] = 100 - 100/(1+data.ri)\n",
    "\n",
    "import pandas_ta as ta\n",
    "data.ta.rsi(close='Close', length=14, append=True)\n",
    "\n",
    "from stockstats import StockDataFrame as SDF\n",
    "\n",
    "data1 = yf.Ticker('600887.SS').history(start = '2021-08-01', end = '2021-10-01')[['Close']]\n",
    "data1 = SDF.retype(data1)\n",
    "\n",
    "\n",
    "import pandas as pd\n",
    "data2 = pd.concat([data, data1], axis=1, join='inner')\n",
    "\n",
    "data2.to_excel(\"rsi_calculation.xlsx\")"
   ]
  },
  {
   "cell_type": "code",
   "execution_count": null,
   "id": "feee9d7b",
   "metadata": {},
   "outputs": [],
   "source": []
  }
 ],
 "metadata": {
  "kernelspec": {
   "display_name": "Python 3 (ipykernel)",
   "language": "python",
   "name": "python3"
  },
  "language_info": {
   "codemirror_mode": {
    "name": "ipython",
    "version": 3
   },
   "file_extension": ".py",
   "mimetype": "text/x-python",
   "name": "python",
   "nbconvert_exporter": "python",
   "pygments_lexer": "ipython3",
   "version": "3.9.5"
  }
 },
 "nbformat": 4,
 "nbformat_minor": 5
}
